{
  "nbformat": 4,
  "nbformat_minor": 0,
  "metadata": {
    "colab": {
      "provenance": []
    },
    "kernelspec": {
      "name": "python3",
      "display_name": "Python 3"
    },
    "language_info": {
      "name": "python"
    }
  },
  "cells": [
    {
      "cell_type": "code",
      "execution_count": 6,
      "metadata": {
        "colab": {
          "base_uri": "https://localhost:8080/"
        },
        "id": "Xt67NVueO_8K",
        "outputId": "d12c4c10-8d2c-445d-d1a9-d2965f161ecb"
      },
      "outputs": [
        {
          "output_type": "stream",
          "name": "stdout",
          "text": [
            "Welcome to Rock, Paper, Scissors!\n",
            "Choose game mode: Best of 3 or Best of 5? (Enter 3 or 5): 3\n",
            "Enter rock, paper, or scissors: rock\n",
            "Computer chose: scissors\n",
            "You win this round!\n",
            "Current Score -> You: 1 | Computer: 0\n",
            "\n",
            "Enter rock, paper, or scissors: paper\n",
            "Computer chose: rock\n",
            "You win this round!\n",
            "Current Score -> You: 2 | Computer: 0\n",
            "\n",
            "Enter rock, paper, or scissors: rock\n",
            "Computer chose: scissors\n",
            "You win this round!\n",
            "Current Score -> You: 3 | Computer: 0\n",
            "\n",
            "Game Over!\n",
            "Congratulations! You won the game!\n",
            "Thank you for playing!\n"
          ]
        }
      ],
      "source": [
        "import random  # Importing the random module for computer's choice\n",
        "\n",
        "def get_user_choice():\n",
        "    # Prompts the user for input and ensures it is a valid choice.\n",
        "    choices = ['rock', 'paper', 'scissors']\n",
        "    user_choice = input(\"Enter rock, paper, or scissors: \").lower()\n",
        "    while user_choice not in choices:\n",
        "        print(\"Invalid choice. Please enter 'rock', 'paper', or 'scissors'.\")\n",
        "        user_choice = input(\"Enter rock, paper, or scissors: \").lower()\n",
        "    return user_choice\n",
        "\n",
        "def get_computer_choice():\n",
        "    # Randomly selects and returns the computer's choice.\n",
        "    return random.choice(['rock', 'paper', 'scissors'])\n",
        "\n",
        "def determine_winner(user, computer):\n",
        "    # Determines the winner based on standard Rock-Paper-Scissors rules.\n",
        "    if user == computer:\n",
        "        return \"tie\"\n",
        "    elif (user == 'rock' and computer == 'scissors') or \\\n",
        "         (user == 'paper' and computer == 'rock') or \\\n",
        "         (user == 'scissors' and computer == 'paper'):\n",
        "        return \"user\"\n",
        "    else:\n",
        "        return \"computer\"\n",
        "\n",
        "def get_game_mode():\n",
        "    # Allows the user to select the game mode: Best of 3 or Best of 5 rounds.\n",
        "    while True:\n",
        "        try:\n",
        "            rounds = int(input(\"Choose game mode: Best of 3 or Best of 5? (Enter 3 or 5): \"))\n",
        "            if rounds in [3, 5]:\n",
        "                return rounds\n",
        "            else:\n",
        "                print(\"Invalid input. Please enter 3 or 5.\")\n",
        "        except ValueError:\n",
        "            print(\"Invalid input. Please enter a numerical value (3 or 5).\")\n",
        "\n",
        "def play_game():\n",
        "    # Manages the Rock-Paper-Scissors game with user-selected settings.\n",
        "    print(\"Welcome to Rock, Paper, Scissors!\")\n",
        "    rounds = get_game_mode()  # User selects game mode\n",
        "    user_score = 0\n",
        "    computer_score = 0\n",
        "\n",
        "    for _ in range(rounds):\n",
        "        user_choice = get_user_choice()  # Get user input\n",
        "        computer_choice = get_computer_choice()  # Get computer's choice\n",
        "        print(f\"Computer chose: {computer_choice}\")\n",
        "        winner = determine_winner(user_choice, computer_choice)  # Determine winner\n",
        "\n",
        "        if winner == \"user\":\n",
        "            print(\"You win this round!\")\n",
        "            user_score += 1\n",
        "        elif winner == \"computer\":\n",
        "            print(\"Computer wins this round!\")\n",
        "            computer_score += 1\n",
        "        else:\n",
        "            print(\"This round is a tie!\")\n",
        "\n",
        "        print(f\"Current Score -> You: {user_score} | Computer: {computer_score}\\n\")\n",
        "\n",
        "    print(\"Game Over!\")\n",
        "    if user_score > computer_score:\n",
        "        print(\"Congratulations! You won the game!\")\n",
        "    elif computer_score > user_score:\n",
        "        print(\"Better luck next time! The computer wins the game.\")\n",
        "    else:\n",
        "        print(\"It's a draw!\")\n",
        "\n",
        "    print(\"Thank you for playing!\")\n",
        "\n",
        "# Execute the game\n",
        "if __name__ == \"__main__\":\n",
        "    play_game()\n",
        "\n"
      ]
    }
  ]
}